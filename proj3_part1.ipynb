{
 "cells": [
  {
   "cell_type": "code",
   "execution_count": 253,
   "metadata": {},
   "outputs": [],
   "source": [
    "import numpy as np\n",
    "from copy import deepcopy"
   ]
  },
  {
   "cell_type": "markdown",
   "metadata": {},
   "source": [
    "Project focused on calculating homographies, using QR decomp to calculate the K, R, C matrices. Also computes the reporjection error for the given homography"
   ]
  },
  {
   "cell_type": "code",
   "execution_count": 254,
   "metadata": {},
   "outputs": [],
   "source": [
    "image_pts = np.array(\n",
    "    [\n",
    "        [757,  213],\n",
    "        [758,  415],\n",
    "        [758,  686],\n",
    "        [759,  966],\n",
    "        [1190, 172],\n",
    "        [329, 1041],\n",
    "        [1204, 850],\n",
    "        [340,  159]\n",
    "    ]\n",
    ")\n",
    "\n",
    "\n",
    "world_pts = np.array(\n",
    "    [\n",
    "        [0, 0,  0],\n",
    "        [0, 3,  0],\n",
    "        [0, 7,  0],\n",
    "        [0, 11, 0],\n",
    "        [7, 1,  0],\n",
    "        [0, 11, 7],\n",
    "        [7, 9,  0],\n",
    "        [0, 1,  7]\n",
    "    ]\n",
    ")\n"
   ]
  },
  {
   "cell_type": "code",
   "execution_count": 255,
   "metadata": {},
   "outputs": [],
   "source": [
    "def find_p(image_points, world_points):\n",
    "    \n",
    "    a_mat = np.array([])\n",
    "    \n",
    "    rows = []\n",
    "    \n",
    "    for i in range(len(image_points)):\n",
    "        xc = image_points[i][0]\n",
    "        yc = image_points[i][1]\n",
    "        \n",
    "        Xw = world_points[i][0]\n",
    "        Yw = world_points[i][1]\n",
    "        Zw = world_points[i][2]\n",
    "\n",
    "        rows.append([Xw, Yw, Zw, 1, 0,  0,  0,  0, -xc*Xw, -xc*Yw, -xc*Zw, -xc])\n",
    "        rows.append([0,  0,  0,  0, Xw, Yw, Zw, 1, -yc*Xw, -yc*Yw, -yc*Zw, -yc])\n",
    "        \n",
    "    \n",
    "    a_mat = np.array(rows)\n",
    "    aTa = a_mat.T@a_mat\n",
    "    eigvals, eigvecs = np.linalg.eig(aTa)\n",
    "    \n",
    "    p = eigvecs[:, np.argmin(eigvals)]\n",
    "    p = p.reshape(3, 4)\n",
    "    return p"
   ]
  },
  {
   "cell_type": "code",
   "execution_count": 256,
   "metadata": {},
   "outputs": [],
   "source": [
    "def gram_schmidt(p):\n",
    "    \n",
    "    d = min(p.shape)\n",
    "    M = p[:d, :d]\n",
    "  \n",
    "    R = np.array([])\n",
    "    \n",
    "    for i in range(d):\n",
    "        ai = M[i, :]\n",
    "        \n",
    "        # Ui = ai - sum(ai dot Uk) for k = 0 to i-1 \n",
    "        if len(R) != 0:\n",
    "            projections = np.sum(ai@R)\n",
    "            ri = (ai - projections).reshape(-1, 1)\n",
    "            R = np.concatenate((R, ri), axis = 1)\n",
    "            \n",
    "        else:\n",
    "            R = ai.reshape(-1, 1)\n",
    "            \n",
    "    for col in range(len(R)):\n",
    "        R[col] /= np.linalg.norm(R[col])\n",
    "    \n",
    "    \n",
    "    K = M@(np.linalg.inv(R))\n",
    "    \n",
    "    return K, R\n",
    "    \n",
    "        "
   ]
  },
  {
   "cell_type": "code",
   "execution_count": 257,
   "metadata": {},
   "outputs": [],
   "source": [
    "p = find_p(image_pts, world_pts)\n",
    "k, r, = gram_schmidt(p)\n",
    "c = -1*p[:, -1].reshape(-1, 1)"
   ]
  },
  {
   "cell_type": "code",
   "execution_count": 258,
   "metadata": {},
   "outputs": [
    {
     "name": "stdout",
     "output_type": "stream",
     "text": [
      "P\n",
      "[[ 3.62233659e-02 -2.21521076e-03 -8.83242916e-02  9.54088881e-01]\n",
      " [-2.53833189e-02  8.30555704e-02 -2.80016309e-02  2.68827013e-01]\n",
      " [-3.49222323e-05 -3.27184804e-06 -3.95667606e-05  1.26053750e-03]]\n",
      "K\n",
      "[[6.65015252e+01 5.67915347e+01 5.47131292e+01]\n",
      " [2.10639296e+01 1.80835431e+01 1.73661530e+01]\n",
      " [2.97709235e-02 2.54386242e-02 2.45470542e-02]]\n",
      "R\n",
      "[[ 8.04395548e-01 -5.94093471e-01 -8.65795843e-04]\n",
      " [-2.71087094e-02  9.99632487e-01 -8.97983431e-05]\n",
      " [-9.48908662e-01 -3.15550520e-01 -4.68767958e-04]]\n",
      "C\n",
      "[[-0.95408888]\n",
      " [-0.26882701]\n",
      " [-0.00126054]]\n"
     ]
    }
   ],
   "source": [
    "print(f\"P\")\n",
    "print(p)\n",
    "print(f\"K\")\n",
    "print(k)\n",
    "print(f\"R\")\n",
    "print(r)\n",
    "print(f\"C\")\n",
    "print(c)\n"
   ]
  },
  {
   "cell_type": "code",
   "execution_count": 259,
   "metadata": {},
   "outputs": [],
   "source": [
    "def get_reproj_err(image_points, world_pts, p):\n",
    "    \n",
    "    ones = np.ones(shape=(len(world_pts), 1))\n",
    "    homogeneous_world_pts = np.concatenate((world_pts, ones), axis=1)\n",
    "    reproj_pts = np.zeros_like(image_points).astype(np.float32)\n",
    "        \n",
    "    for i in range(len(homogeneous_world_pts)):\n",
    "        w_pt = homogeneous_world_pts[i]\n",
    "    \n",
    "        r_pt = p@w_pt\n",
    "        r_pt = r_pt/r_pt[-1]\n",
    "        reproj_pts[i] = r_pt[:2]\n",
    "\n",
    "    reproj_err = np.sqrt(np.sum((reproj_pts-image_pts)**2, axis = 1))\n",
    "\n",
    "    return reproj_err\n",
    "\n"
   ]
  },
  {
   "cell_type": "code",
   "execution_count": 260,
   "metadata": {},
   "outputs": [
    {
     "data": {
      "text/plain": [
       "0.4703265841741417"
      ]
     },
     "execution_count": 260,
     "metadata": {},
     "output_type": "execute_result"
    }
   ],
   "source": [
    "reproj_err = get_reproj_err(image_pts, world_pts, p)\n",
    "np.average(reproj_err)"
   ]
  }
 ],
 "metadata": {
  "kernelspec": {
   "display_name": "Python 3",
   "language": "python",
   "name": "python3"
  },
  "language_info": {
   "codemirror_mode": {
    "name": "ipython",
    "version": 3
   },
   "file_extension": ".py",
   "mimetype": "text/x-python",
   "name": "python",
   "nbconvert_exporter": "python",
   "pygments_lexer": "ipython3",
   "version": "3.8.10"
  }
 },
 "nbformat": 4,
 "nbformat_minor": 2
}
