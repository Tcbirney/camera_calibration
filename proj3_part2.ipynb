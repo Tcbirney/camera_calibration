{
 "cells": [
  {
   "cell_type": "code",
   "execution_count": 102,
   "metadata": {},
   "outputs": [],
   "source": [
    "import cv2\n",
    "import numpy as np\n",
    "import os"
   ]
  },
  {
   "cell_type": "markdown",
   "metadata": {},
   "source": [
    "Project demonstrating the pipeline for camera calibration using the chessboard method. We were allowed to use any function to do this, so I'm not too interested with it right now. Maybe later I will solve it by hand using Zhangs method to decompose H into the K, R matrices. I would need to learn how to handle distortion however.\n",
    "\n",
    "The opencv docs are here \n",
    "https://docs.opencv.org/4.x/dc/dbb/tutorial_py_calibration.html"
   ]
  },
  {
   "cell_type": "code",
   "execution_count": null,
   "metadata": {},
   "outputs": [],
   "source": []
  },
  {
   "cell_type": "code",
   "execution_count": 103,
   "metadata": {},
   "outputs": [],
   "source": [
    "def gen_world_pts():\n",
    " \n",
    "    world_pts = []\n",
    "\n",
    "    # converting mm to m and generating world points\n",
    "    for x in range(6):\n",
    "        for y in range(9):\n",
    "            xw = 0.0215*x\n",
    "            yw = 0.0215*y\n",
    "            \n",
    "            world_pts.append([xw, yw])\n",
    "\n",
    "    world_pts = np.array(world_pts)\n",
    "    return world_pts"
   ]
  },
  {
   "cell_type": "code",
   "execution_count": 111,
   "metadata": {},
   "outputs": [],
   "source": [
    "image_pts = np.array([])\n",
    "world_pts = np.array([])\n",
    "num_images = 0\n",
    "\n",
    "for fname in os.listdir('./Calibration_Imgs/')[:1]:\n",
    "        \n",
    "    image = cv2.imread(f\"./Calibration_Imgs/{fname}\")\n",
    "\n",
    "    ret, image_corners = cv2.findChessboardCorners(image, (9,6))\n",
    "    \n",
    "    if ret == True:\n",
    "        num_images += 1\n",
    "        \n",
    "        image_corners = image_corners.reshape(-1, 2)\n",
    "        \n",
    "        if len(image_pts) != 0:\n",
    "            image_pts = np.concatenate((image_pts, image_corners))\n",
    "            world_pts = np.concatenate((world_pts, gen_world_pts()))\n",
    "        else:\n",
    "            image_pts = image_corners\n",
    "            world_pts = gen_world_pts()\n"
   ]
  },
  {
   "cell_type": "code",
   "execution_count": 113,
   "metadata": {},
   "outputs": [
    {
     "name": "stdout",
     "output_type": "stream",
     "text": [
      "[ 362.04318 1477.383  ]\n",
      "[ 374.50928 1353.3971 ]\n",
      "[ 387.00433 1234.4147 ]\n",
      "[ 398.75333 1121.3866 ]\n",
      "[ 409.5982 1012.0066]\n",
      "[420.47037 906.1987 ]\n",
      "[430.96402 805.1585 ]\n",
      "[441.65222 708.3719 ]\n",
      "[451.51297 614.435  ]\n",
      "[ 494.35486 1482.1812 ]\n",
      "[ 504.624  1358.8696]\n",
      "[ 514.13806 1240.5941 ]\n",
      "[ 522.98083 1126.5211 ]\n",
      "[ 531.5785 1017.6117]\n",
      "[539.6976  911.65686]\n",
      "[548.2362 809.6145]\n",
      "[556.26776 712.3994 ]\n",
      "[564.42084 618.7465 ]\n",
      "[ 625.62115 1486.3792 ]\n",
      "[ 632.9711 1363.3252]\n",
      "[ 639.91113 1245.0726 ]\n",
      "[ 646.4683 1130.983 ]\n",
      "[ 652.59296 1021.5931 ]\n",
      "[658.9867 916.1094]\n",
      "[664.6223 813.7479]\n",
      "[670.753  716.3617]\n",
      "[676.3825 622.7387]\n",
      "[ 756.5799 1489.7246]\n",
      "[ 761.0999 1367.0531]\n",
      "[ 765.3668 1249.4617]\n",
      "[ 769.7625 1135.3274]\n",
      "[ 773.9579 1025.5602]\n",
      "[777.65454 919.545  ]\n",
      "[781.84705 817.5821 ]\n",
      "[785.2827 720.5441]\n",
      "[789.234  627.4801]\n",
      "[ 889.038  1494.3754]\n",
      "[ 890.24023 1370.2596 ]\n",
      "[ 891.77905 1252.8568 ]\n",
      "[ 893.74396 1139.7369 ]\n",
      "[ 895.54285 1030.5911 ]\n",
      "[897.55316 924.5502 ]\n",
      "[899.01776 822.1933 ]\n",
      "[900.7073 724.6734]\n",
      "[901.6839  631.68176]\n",
      "[1021.488  1500.5067]\n",
      "[1019.9228 1376.3672]\n",
      "[1018.96313 1257.0414 ]\n",
      "[1018.5792 1142.556 ]\n",
      "[1018.2609 1032.5255]\n",
      "[1017.2983  927.5191]\n",
      "[1016.6589  825.6983]\n",
      "[1015.7848   728.55786]\n",
      "[1014.93506  635.434  ]\n"
     ]
    }
   ],
   "source": [
    "for i in image_pts:\n",
    "    print(i)"
   ]
  },
  {
   "cell_type": "code",
   "execution_count": 114,
   "metadata": {},
   "outputs": [],
   "source": [
    "def find_h(image_points, world_points):\n",
    "    \n",
    "    a_mat = np.array([])\n",
    "    rows = []\n",
    "    \n",
    "    for i in range(len(image_points)):\n",
    "        print(i)\n",
    "        xc = image_points[i][0]\n",
    "        yc = image_points[i][1]\n",
    "        \n",
    "        Xw = world_points[i][0]\n",
    "        Yw = world_points[i][1]\n",
    "\n",
    "        rows.append([Xw, Yw, 1, 0,  0,  0, -xc*Xw, -xc*Yw, -xc])\n",
    "        rows.append([0,  0,  0, Xw, Yw, 1, -yc*Xw, -yc*Yw, -yc])\n",
    "        \n",
    "    \n",
    "    a_mat = np.array(rows)\n",
    "    aTa = a_mat.T@a_mat\n",
    "    eigvals, eigvecs = np.linalg.eig(aTa)\n",
    "    \n",
    "    p = eigvecs[:, np.argmin(eigvals)]\n",
    "    p = p.reshape(3, 3)\n",
    "    return p"
   ]
  },
  {
   "cell_type": "code",
   "execution_count": 115,
   "metadata": {},
   "outputs": [
    {
     "data": {
      "text/plain": [
       "array([[ 362.04318, 1477.383  ],\n",
       "       [ 374.50928, 1353.3971 ],\n",
       "       [ 387.00433, 1234.4147 ],\n",
       "       [ 398.75333, 1121.3866 ],\n",
       "       [ 409.5982 , 1012.0066 ],\n",
       "       [ 420.47037,  906.1987 ],\n",
       "       [ 430.96402,  805.1585 ],\n",
       "       [ 441.65222,  708.3719 ],\n",
       "       [ 451.51297,  614.435  ],\n",
       "       [ 494.35486, 1482.1812 ],\n",
       "       [ 504.624  , 1358.8696 ],\n",
       "       [ 514.13806, 1240.5941 ],\n",
       "       [ 522.98083, 1126.5211 ],\n",
       "       [ 531.5785 , 1017.6117 ],\n",
       "       [ 539.6976 ,  911.65686],\n",
       "       [ 548.2362 ,  809.6145 ],\n",
       "       [ 556.26776,  712.3994 ],\n",
       "       [ 564.42084,  618.7465 ],\n",
       "       [ 625.62115, 1486.3792 ],\n",
       "       [ 632.9711 , 1363.3252 ],\n",
       "       [ 639.91113, 1245.0726 ],\n",
       "       [ 646.4683 , 1130.983  ],\n",
       "       [ 652.59296, 1021.5931 ],\n",
       "       [ 658.9867 ,  916.1094 ],\n",
       "       [ 664.6223 ,  813.7479 ],\n",
       "       [ 670.753  ,  716.3617 ],\n",
       "       [ 676.3825 ,  622.7387 ],\n",
       "       [ 756.5799 , 1489.7246 ],\n",
       "       [ 761.0999 , 1367.0531 ],\n",
       "       [ 765.3668 , 1249.4617 ],\n",
       "       [ 769.7625 , 1135.3274 ],\n",
       "       [ 773.9579 , 1025.5602 ],\n",
       "       [ 777.65454,  919.545  ],\n",
       "       [ 781.84705,  817.5821 ],\n",
       "       [ 785.2827 ,  720.5441 ],\n",
       "       [ 789.234  ,  627.4801 ],\n",
       "       [ 889.038  , 1494.3754 ],\n",
       "       [ 890.24023, 1370.2596 ],\n",
       "       [ 891.77905, 1252.8568 ],\n",
       "       [ 893.74396, 1139.7369 ],\n",
       "       [ 895.54285, 1030.5911 ],\n",
       "       [ 897.55316,  924.5502 ],\n",
       "       [ 899.01776,  822.1933 ],\n",
       "       [ 900.7073 ,  724.6734 ],\n",
       "       [ 901.6839 ,  631.68176],\n",
       "       [1021.488  , 1500.5067 ],\n",
       "       [1019.9228 , 1376.3672 ],\n",
       "       [1018.96313, 1257.0414 ],\n",
       "       [1018.5792 , 1142.556  ],\n",
       "       [1018.2609 , 1032.5255 ],\n",
       "       [1017.2983 ,  927.5191 ],\n",
       "       [1016.6589 ,  825.6983 ],\n",
       "       [1015.7848 ,  728.55786],\n",
       "       [1014.93506,  635.434  ]], dtype=float32)"
      ]
     },
     "execution_count": 115,
     "metadata": {},
     "output_type": "execute_result"
    }
   ],
   "source": [
    "image_pts"
   ]
  },
  {
   "cell_type": "code",
   "execution_count": 116,
   "metadata": {},
   "outputs": [
    {
     "data": {
      "text/plain": [
       "array([[0.    , 0.    ],\n",
       "       [0.    , 0.0215],\n",
       "       [0.    , 0.043 ],\n",
       "       [0.    , 0.0645],\n",
       "       [0.    , 0.086 ],\n",
       "       [0.    , 0.1075],\n",
       "       [0.    , 0.129 ],\n",
       "       [0.    , 0.1505],\n",
       "       [0.    , 0.172 ],\n",
       "       [0.0215, 0.    ],\n",
       "       [0.0215, 0.0215],\n",
       "       [0.0215, 0.043 ],\n",
       "       [0.0215, 0.0645],\n",
       "       [0.0215, 0.086 ],\n",
       "       [0.0215, 0.1075],\n",
       "       [0.0215, 0.129 ],\n",
       "       [0.0215, 0.1505],\n",
       "       [0.0215, 0.172 ],\n",
       "       [0.043 , 0.    ],\n",
       "       [0.043 , 0.0215],\n",
       "       [0.043 , 0.043 ],\n",
       "       [0.043 , 0.0645],\n",
       "       [0.043 , 0.086 ],\n",
       "       [0.043 , 0.1075],\n",
       "       [0.043 , 0.129 ],\n",
       "       [0.043 , 0.1505],\n",
       "       [0.043 , 0.172 ],\n",
       "       [0.0645, 0.    ],\n",
       "       [0.0645, 0.0215],\n",
       "       [0.0645, 0.043 ],\n",
       "       [0.0645, 0.0645],\n",
       "       [0.0645, 0.086 ],\n",
       "       [0.0645, 0.1075],\n",
       "       [0.0645, 0.129 ],\n",
       "       [0.0645, 0.1505],\n",
       "       [0.0645, 0.172 ],\n",
       "       [0.086 , 0.    ],\n",
       "       [0.086 , 0.0215],\n",
       "       [0.086 , 0.043 ],\n",
       "       [0.086 , 0.0645],\n",
       "       [0.086 , 0.086 ],\n",
       "       [0.086 , 0.1075],\n",
       "       [0.086 , 0.129 ],\n",
       "       [0.086 , 0.1505],\n",
       "       [0.086 , 0.172 ],\n",
       "       [0.1075, 0.    ],\n",
       "       [0.1075, 0.0215],\n",
       "       [0.1075, 0.043 ],\n",
       "       [0.1075, 0.0645],\n",
       "       [0.1075, 0.086 ],\n",
       "       [0.1075, 0.1075],\n",
       "       [0.1075, 0.129 ],\n",
       "       [0.1075, 0.1505],\n",
       "       [0.1075, 0.172 ]])"
      ]
     },
     "execution_count": 116,
     "metadata": {},
     "output_type": "execute_result"
    }
   ],
   "source": [
    "world_pts"
   ]
  },
  {
   "cell_type": "code",
   "execution_count": 117,
   "metadata": {},
   "outputs": [
    {
     "name": "stdout",
     "output_type": "stream",
     "text": [
      "0\n",
      "1\n",
      "2\n",
      "3\n",
      "4\n",
      "5\n",
      "6\n",
      "7\n",
      "8\n",
      "9\n",
      "10\n",
      "11\n",
      "12\n",
      "13\n",
      "14\n",
      "15\n",
      "16\n",
      "17\n",
      "18\n",
      "19\n",
      "20\n",
      "21\n",
      "22\n",
      "23\n",
      "24\n",
      "25\n",
      "26\n",
      "27\n",
      "28\n",
      "29\n",
      "30\n",
      "31\n",
      "32\n",
      "33\n",
      "34\n",
      "35\n",
      "36\n",
      "37\n",
      "38\n",
      "39\n",
      "40\n",
      "41\n",
      "42\n",
      "43\n",
      "44\n",
      "45\n",
      "46\n",
      "47\n",
      "48\n",
      "49\n",
      "50\n",
      "51\n",
      "52\n",
      "53\n"
     ]
    },
    {
     "data": {
      "text/plain": [
       "array([[-7.89293254e-01, -1.23415797e-01, -4.65821023e-02],\n",
       "       [-2.83702950e-02,  5.68036233e-01, -1.90117700e-01],\n",
       "       [-7.30363581e-07, -1.25946057e-04, -1.28706277e-04]])"
      ]
     },
     "execution_count": 117,
     "metadata": {},
     "output_type": "execute_result"
    }
   ],
   "source": [
    "h = find_h(image_pts, world_pts)\n",
    "h"
   ]
  },
  {
   "cell_type": "code",
   "execution_count": 118,
   "metadata": {},
   "outputs": [],
   "source": [
    "def get_reproj_err(image_points, world_pts, p):\n",
    "    \n",
    "    ones = np.ones(shape=(len(world_pts), 1))\n",
    "    homogeneous_world_pts = np.concatenate((world_pts, ones), axis=1)\n",
    "    reproj_pts = np.zeros_like(image_points).astype(np.float32)\n",
    "        \n",
    "    for i in range(len(homogeneous_world_pts)):\n",
    "        w_pt = homogeneous_world_pts[i]\n",
    "    \n",
    "        r_pt = p@w_pt\n",
    "        r_pt = r_pt/r_pt[-1]\n",
    "        reproj_pts[i] = r_pt[:-1]\n",
    "\n",
    "    reproj_err = np.sqrt(np.sum((reproj_pts-image_pts)**2, axis = 1))\n",
    "\n",
    "    return reproj_err"
   ]
  },
  {
   "cell_type": "code",
   "execution_count": 119,
   "metadata": {},
   "outputs": [
    {
     "data": {
      "text/plain": [
       "0.74556816"
      ]
     },
     "execution_count": 119,
     "metadata": {},
     "output_type": "execute_result"
    }
   ],
   "source": [
    "reproj_err = get_reproj_err(image_pts, world_pts, h)\n",
    "np.average(reproj_err)"
   ]
  },
  {
   "cell_type": "code",
   "execution_count": null,
   "metadata": {},
   "outputs": [],
   "source": []
  },
  {
   "cell_type": "code",
   "execution_count": null,
   "metadata": {},
   "outputs": [],
   "source": []
  }
 ],
 "metadata": {
  "kernelspec": {
   "display_name": "Python 3",
   "language": "python",
   "name": "python3"
  },
  "language_info": {
   "codemirror_mode": {
    "name": "ipython",
    "version": 3
   },
   "file_extension": ".py",
   "mimetype": "text/x-python",
   "name": "python",
   "nbconvert_exporter": "python",
   "pygments_lexer": "ipython3",
   "version": "3.8.10"
  }
 },
 "nbformat": 4,
 "nbformat_minor": 2
}
